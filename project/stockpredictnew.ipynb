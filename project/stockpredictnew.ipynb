{
  "nbformat": 4,
  "nbformat_minor": 0,
  "metadata": {
    "colab": {
      "name": "StockPredictv2.ipynb",
      "provenance": []
    },
    "kernelspec": {
      "name": "python3",
      "display_name": "Python 3"
    }
  },
  "cells": [
    {
      "cell_type": "markdown",
      "metadata": {
        "id": "Q9Nf-PqN1LAV"
      },
      "source": [
        "Importing all the required libraries"
      ]
    },
    {
      "cell_type": "code",
      "metadata": {
        "id": "pGrGS3Sm1H9y"
      },
      "source": [
        "import numpy as np\n",
        "import pandas as pd\n",
        "from sklearn.model_selection import train_test_split\n",
        "from keras.models import Sequential\n",
        "from keras.layers import Dense, Dropout, LSTM\n",
        "import matplotlib.pyplot as plt"
      ],
      "execution_count": 2,
      "outputs": []
    },
    {
      "cell_type": "markdown",
      "metadata": {
        "id": "EF1qMAyD2Kqj"
      },
      "source": [
        "Read Stock Data"
      ]
    },
    {
      "cell_type": "code",
      "metadata": {
        "colab": {
          "base_uri": "https://localhost:8080/",
          "height": 204
        },
        "id": "fUizgfYu2Qs_",
        "outputId": "a4e7bab9-1962-4db2-e5ef-a1f189b13c4e"
      },
      "source": [
        "url = 'https://raw.githubusercontent.com/cybertraining-dsc/fa20-523-313/main/JKSEnew.csv'\n",
        "df = pd.read_csv(url)\n",
        "\n",
        "df.head()"
      ],
      "execution_count": 3,
      "outputs": [
        {
          "output_type": "execute_result",
          "data": {
            "text/html": [
              "<div>\n",
              "<style scoped>\n",
              "    .dataframe tbody tr th:only-of-type {\n",
              "        vertical-align: middle;\n",
              "    }\n",
              "\n",
              "    .dataframe tbody tr th {\n",
              "        vertical-align: top;\n",
              "    }\n",
              "\n",
              "    .dataframe thead th {\n",
              "        text-align: right;\n",
              "    }\n",
              "</style>\n",
              "<table border=\"1\" class=\"dataframe\">\n",
              "  <thead>\n",
              "    <tr style=\"text-align: right;\">\n",
              "      <th></th>\n",
              "      <th>Date</th>\n",
              "      <th>Open</th>\n",
              "      <th>High</th>\n",
              "      <th>Low</th>\n",
              "      <th>Close</th>\n",
              "      <th>Adj Close</th>\n",
              "      <th>Volume</th>\n",
              "    </tr>\n",
              "  </thead>\n",
              "  <tbody>\n",
              "    <tr>\n",
              "      <th>0</th>\n",
              "      <td>1/4/2000</td>\n",
              "      <td>677.473999</td>\n",
              "      <td>704.031982</td>\n",
              "      <td>677.473999</td>\n",
              "      <td>700.218018</td>\n",
              "      <td>700.197266</td>\n",
              "      <td>11053800</td>\n",
              "    </tr>\n",
              "    <tr>\n",
              "      <th>1</th>\n",
              "      <td>1/5/2000</td>\n",
              "      <td>694.859009</td>\n",
              "      <td>694.859009</td>\n",
              "      <td>674.336975</td>\n",
              "      <td>678.086975</td>\n",
              "      <td>678.066895</td>\n",
              "      <td>8685000</td>\n",
              "    </tr>\n",
              "    <tr>\n",
              "      <th>2</th>\n",
              "      <td>1/6/2000</td>\n",
              "      <td>681.297974</td>\n",
              "      <td>691.887024</td>\n",
              "      <td>681.297974</td>\n",
              "      <td>688.520996</td>\n",
              "      <td>688.500549</td>\n",
              "      <td>7604500</td>\n",
              "    </tr>\n",
              "    <tr>\n",
              "      <th>3</th>\n",
              "      <td>1/11/2000</td>\n",
              "      <td>691.924011</td>\n",
              "      <td>704.541992</td>\n",
              "      <td>691.924011</td>\n",
              "      <td>696.002991</td>\n",
              "      <td>695.982361</td>\n",
              "      <td>17793800</td>\n",
              "    </tr>\n",
              "    <tr>\n",
              "      <th>4</th>\n",
              "      <td>1/12/2000</td>\n",
              "      <td>696.293030</td>\n",
              "      <td>698.145020</td>\n",
              "      <td>686.705017</td>\n",
              "      <td>690.164001</td>\n",
              "      <td>690.143494</td>\n",
              "      <td>14668700</td>\n",
              "    </tr>\n",
              "  </tbody>\n",
              "</table>\n",
              "</div>"
            ],
            "text/plain": [
              "        Date        Open        High  ...       Close   Adj Close    Volume\n",
              "0   1/4/2000  677.473999  704.031982  ...  700.218018  700.197266  11053800\n",
              "1   1/5/2000  694.859009  694.859009  ...  678.086975  678.066895   8685000\n",
              "2   1/6/2000  681.297974  691.887024  ...  688.520996  688.500549   7604500\n",
              "3  1/11/2000  691.924011  704.541992  ...  696.002991  695.982361  17793800\n",
              "4  1/12/2000  696.293030  698.145020  ...  690.164001  690.143494  14668700\n",
              "\n",
              "[5 rows x 7 columns]"
            ]
          },
          "metadata": {
            "tags": []
          },
          "execution_count": 3
        }
      ]
    },
    {
      "cell_type": "markdown",
      "metadata": {
        "id": "_FJrDnm92YF0"
      },
      "source": [
        "Overview of the tail of data"
      ]
    },
    {
      "cell_type": "code",
      "metadata": {
        "colab": {
          "base_uri": "https://localhost:8080/",
          "height": 204
        },
        "id": "TADKyY2b2cjC",
        "outputId": "fa567439-e5a9-415b-85e0-925b9bcdbeac"
      },
      "source": [
        "df.tail()\n"
      ],
      "execution_count": 4,
      "outputs": [
        {
          "output_type": "execute_result",
          "data": {
            "text/html": [
              "<div>\n",
              "<style scoped>\n",
              "    .dataframe tbody tr th:only-of-type {\n",
              "        vertical-align: middle;\n",
              "    }\n",
              "\n",
              "    .dataframe tbody tr th {\n",
              "        vertical-align: top;\n",
              "    }\n",
              "\n",
              "    .dataframe thead th {\n",
              "        text-align: right;\n",
              "    }\n",
              "</style>\n",
              "<table border=\"1\" class=\"dataframe\">\n",
              "  <thead>\n",
              "    <tr style=\"text-align: right;\">\n",
              "      <th></th>\n",
              "      <th>Date</th>\n",
              "      <th>Open</th>\n",
              "      <th>High</th>\n",
              "      <th>Low</th>\n",
              "      <th>Close</th>\n",
              "      <th>Adj Close</th>\n",
              "      <th>Volume</th>\n",
              "    </tr>\n",
              "  </thead>\n",
              "  <tbody>\n",
              "    <tr>\n",
              "      <th>5077</th>\n",
              "      <td>11/11/2020</td>\n",
              "      <td>5475.564941</td>\n",
              "      <td>5520.908203</td>\n",
              "      <td>5471.591797</td>\n",
              "      <td>5509.513184</td>\n",
              "      <td>5509.513184</td>\n",
              "      <td>165238700</td>\n",
              "    </tr>\n",
              "    <tr>\n",
              "      <th>5078</th>\n",
              "      <td>11/12/2020</td>\n",
              "      <td>5494.484863</td>\n",
              "      <td>5500.416016</td>\n",
              "      <td>5449.796875</td>\n",
              "      <td>5458.602051</td>\n",
              "      <td>5458.602051</td>\n",
              "      <td>119777900</td>\n",
              "    </tr>\n",
              "    <tr>\n",
              "      <th>5079</th>\n",
              "      <td>11/13/2020</td>\n",
              "      <td>5449.101074</td>\n",
              "      <td>5466.563965</td>\n",
              "      <td>5427.631836</td>\n",
              "      <td>5461.058105</td>\n",
              "      <td>5461.058105</td>\n",
              "      <td>113428800</td>\n",
              "    </tr>\n",
              "    <tr>\n",
              "      <th>5080</th>\n",
              "      <td>11/16/2020</td>\n",
              "      <td>5500.034180</td>\n",
              "      <td>5519.679199</td>\n",
              "      <td>5462.459961</td>\n",
              "      <td>5494.872070</td>\n",
              "      <td>5494.872070</td>\n",
              "      <td>119907500</td>\n",
              "    </tr>\n",
              "    <tr>\n",
              "      <th>5081</th>\n",
              "      <td>11/17/2020</td>\n",
              "      <td>5516.580078</td>\n",
              "      <td>5562.537109</td>\n",
              "      <td>5515.519043</td>\n",
              "      <td>5529.939941</td>\n",
              "      <td>5529.939941</td>\n",
              "      <td>146811400</td>\n",
              "    </tr>\n",
              "  </tbody>\n",
              "</table>\n",
              "</div>"
            ],
            "text/plain": [
              "            Date         Open         High  ...        Close    Adj Close     Volume\n",
              "5077  11/11/2020  5475.564941  5520.908203  ...  5509.513184  5509.513184  165238700\n",
              "5078  11/12/2020  5494.484863  5500.416016  ...  5458.602051  5458.602051  119777900\n",
              "5079  11/13/2020  5449.101074  5466.563965  ...  5461.058105  5461.058105  113428800\n",
              "5080  11/16/2020  5500.034180  5519.679199  ...  5494.872070  5494.872070  119907500\n",
              "5081  11/17/2020  5516.580078  5562.537109  ...  5529.939941  5529.939941  146811400\n",
              "\n",
              "[5 rows x 7 columns]"
            ]
          },
          "metadata": {
            "tags": []
          },
          "execution_count": 4
        }
      ]
    },
    {
      "cell_type": "markdown",
      "metadata": {
        "id": "auTa1CIb3d6B"
      },
      "source": [
        "Analyze if there is null or missing values in dataset"
      ]
    },
    {
      "cell_type": "code",
      "metadata": {
        "colab": {
          "base_uri": "https://localhost:8080/"
        },
        "id": "zThEBpB03i9k",
        "outputId": "c2c592dd-8f66-41bf-aae8-2c00d6cec389"
      },
      "source": [
        "df.isnull().sum()"
      ],
      "execution_count": 5,
      "outputs": [
        {
          "output_type": "execute_result",
          "data": {
            "text/plain": [
              "Date         0\n",
              "Open         0\n",
              "High         0\n",
              "Low          0\n",
              "Close        0\n",
              "Adj Close    0\n",
              "Volume       0\n",
              "dtype: int64"
            ]
          },
          "metadata": {
            "tags": []
          },
          "execution_count": 5
        }
      ]
    },
    {
      "cell_type": "markdown",
      "metadata": {
        "id": "2od8gSeF3kkN"
      },
      "source": [
        ""
      ]
    },
    {
      "cell_type": "code",
      "metadata": {
        "colab": {
          "base_uri": "https://localhost:8080/",
          "height": 204
        },
        "id": "mNBKh24k4mx0",
        "outputId": "1929ba5e-46d6-445b-8512-19598953b1fe"
      },
      "source": [
        "df['Date'] = pd.to_datetime(df.Date,format='%m/%d/%Y')\n",
        "df.index = df['Date']\n",
        "\n",
        "data = df.sort_index(ascending=True, axis=0)\n"
      ],
      "execution_count": 6,
      "outputs": [
        {
          "output_type": "execute_result",
          "data": {
            "text/html": [
              "<div>\n",
              "<style scoped>\n",
              "    .dataframe tbody tr th:only-of-type {\n",
              "        vertical-align: middle;\n",
              "    }\n",
              "\n",
              "    .dataframe tbody tr th {\n",
              "        vertical-align: top;\n",
              "    }\n",
              "\n",
              "    .dataframe thead th {\n",
              "        text-align: right;\n",
              "    }\n",
              "</style>\n",
              "<table border=\"1\" class=\"dataframe\">\n",
              "  <thead>\n",
              "    <tr style=\"text-align: right;\">\n",
              "      <th></th>\n",
              "      <th>Date</th>\n",
              "      <th>Close</th>\n",
              "    </tr>\n",
              "  </thead>\n",
              "  <tbody>\n",
              "    <tr>\n",
              "      <th>5077</th>\n",
              "      <td>2020-11-11 00:00:00</td>\n",
              "      <td>5509.51</td>\n",
              "    </tr>\n",
              "    <tr>\n",
              "      <th>5078</th>\n",
              "      <td>2020-11-12 00:00:00</td>\n",
              "      <td>5458.6</td>\n",
              "    </tr>\n",
              "    <tr>\n",
              "      <th>5079</th>\n",
              "      <td>2020-11-13 00:00:00</td>\n",
              "      <td>5461.06</td>\n",
              "    </tr>\n",
              "    <tr>\n",
              "      <th>5080</th>\n",
              "      <td>2020-11-16 00:00:00</td>\n",
              "      <td>5494.87</td>\n",
              "    </tr>\n",
              "    <tr>\n",
              "      <th>5081</th>\n",
              "      <td>2020-11-17 00:00:00</td>\n",
              "      <td>5529.94</td>\n",
              "    </tr>\n",
              "  </tbody>\n",
              "</table>\n",
              "</div>"
            ],
            "text/plain": [
              "                     Date    Close\n",
              "5077  2020-11-11 00:00:00  5509.51\n",
              "5078  2020-11-12 00:00:00   5458.6\n",
              "5079  2020-11-13 00:00:00  5461.06\n",
              "5080  2020-11-16 00:00:00  5494.87\n",
              "5081  2020-11-17 00:00:00  5529.94"
            ]
          },
          "metadata": {
            "tags": []
          },
          "execution_count": 6
        }
      ]
    },
    {
      "cell_type": "markdown",
      "metadata": {
        "id": "gFudqTl3BUPJ"
      },
      "source": [
        "Calculate the percentage of price changes, and store it in new_data"
      ]
    },
    {
      "cell_type": "code",
      "metadata": {
        "colab": {
          "base_uri": "https://localhost:8080/",
          "height": 204
        },
        "id": "10sXngQsIXmo",
        "outputId": "ca4a41bf-9a6a-4fe7-c63a-5a658d12f537"
      },
      "source": [
        "new_data = pd.DataFrame(index=range(0,len(df)),columns=['Date', 'Close'])\n",
        "\n",
        "for i in range(0,len(data)):\n",
        "    new_data['Date'][i] = data['Date'][i]\n",
        "    new_data['Close'][i] = data['Close'][i]\n",
        "\n",
        "baseValue = new_data['Close'][0]\n",
        "new_data['Close'][0] = 0\n",
        "for i in range(1,len(new_data['Close'])):\n",
        "  pChange = ((float(new_data['Close'][i])-baseValue) / abs(baseValue)) *100.00\n",
        "  #percentageChange(baseValue,[i])\n",
        "  baseValue = new_data['Close'][i]\n",
        "  new_data['Close'][i] = pChange\n",
        "new_data.head()"
      ],
      "execution_count": 7,
      "outputs": [
        {
          "output_type": "execute_result",
          "data": {
            "text/html": [
              "<div>\n",
              "<style scoped>\n",
              "    .dataframe tbody tr th:only-of-type {\n",
              "        vertical-align: middle;\n",
              "    }\n",
              "\n",
              "    .dataframe tbody tr th {\n",
              "        vertical-align: top;\n",
              "    }\n",
              "\n",
              "    .dataframe thead th {\n",
              "        text-align: right;\n",
              "    }\n",
              "</style>\n",
              "<table border=\"1\" class=\"dataframe\">\n",
              "  <thead>\n",
              "    <tr style=\"text-align: right;\">\n",
              "      <th></th>\n",
              "      <th>Date</th>\n",
              "      <th>Close</th>\n",
              "    </tr>\n",
              "  </thead>\n",
              "  <tbody>\n",
              "    <tr>\n",
              "      <th>0</th>\n",
              "      <td>2000-01-04 00:00:00</td>\n",
              "      <td>0</td>\n",
              "    </tr>\n",
              "    <tr>\n",
              "      <th>1</th>\n",
              "      <td>2000-01-05 00:00:00</td>\n",
              "      <td>-3.16059</td>\n",
              "    </tr>\n",
              "    <tr>\n",
              "      <th>2</th>\n",
              "      <td>2000-01-06 00:00:00</td>\n",
              "      <td>1.53874</td>\n",
              "    </tr>\n",
              "    <tr>\n",
              "      <th>3</th>\n",
              "      <td>2000-01-11 00:00:00</td>\n",
              "      <td>1.08668</td>\n",
              "    </tr>\n",
              "    <tr>\n",
              "      <th>4</th>\n",
              "      <td>2000-01-12 00:00:00</td>\n",
              "      <td>-0.838932</td>\n",
              "    </tr>\n",
              "  </tbody>\n",
              "</table>\n",
              "</div>"
            ],
            "text/plain": [
              "                  Date     Close\n",
              "0  2000-01-04 00:00:00         0\n",
              "1  2000-01-05 00:00:00  -3.16059\n",
              "2  2000-01-06 00:00:00   1.53874\n",
              "3  2000-01-11 00:00:00   1.08668\n",
              "4  2000-01-12 00:00:00 -0.838932"
            ]
          },
          "metadata": {
            "tags": []
          },
          "execution_count": 7
        }
      ]
    },
    {
      "cell_type": "code",
      "metadata": {
        "colab": {
          "base_uri": "https://localhost:8080/",
          "height": 235
        },
        "id": "jNjzrEClgob7",
        "outputId": "b1190c91-ab48-4183-9470-633a49d8eb6c"
      },
      "source": [
        "new_data.index = new_data['Date']\n",
        "new_data.drop('Date', axis=1, inplace=True)\n",
        "new_data.head()"
      ],
      "execution_count": 9,
      "outputs": [
        {
          "output_type": "execute_result",
          "data": {
            "text/html": [
              "<div>\n",
              "<style scoped>\n",
              "    .dataframe tbody tr th:only-of-type {\n",
              "        vertical-align: middle;\n",
              "    }\n",
              "\n",
              "    .dataframe tbody tr th {\n",
              "        vertical-align: top;\n",
              "    }\n",
              "\n",
              "    .dataframe thead th {\n",
              "        text-align: right;\n",
              "    }\n",
              "</style>\n",
              "<table border=\"1\" class=\"dataframe\">\n",
              "  <thead>\n",
              "    <tr style=\"text-align: right;\">\n",
              "      <th></th>\n",
              "      <th>Close</th>\n",
              "    </tr>\n",
              "    <tr>\n",
              "      <th>Date</th>\n",
              "      <th></th>\n",
              "    </tr>\n",
              "  </thead>\n",
              "  <tbody>\n",
              "    <tr>\n",
              "      <th>2000-01-04</th>\n",
              "      <td>0</td>\n",
              "    </tr>\n",
              "    <tr>\n",
              "      <th>2000-01-05</th>\n",
              "      <td>-3.16059</td>\n",
              "    </tr>\n",
              "    <tr>\n",
              "      <th>2000-01-06</th>\n",
              "      <td>1.53874</td>\n",
              "    </tr>\n",
              "    <tr>\n",
              "      <th>2000-01-11</th>\n",
              "      <td>1.08668</td>\n",
              "    </tr>\n",
              "    <tr>\n",
              "      <th>2000-01-12</th>\n",
              "      <td>-0.838932</td>\n",
              "    </tr>\n",
              "  </tbody>\n",
              "</table>\n",
              "</div>"
            ],
            "text/plain": [
              "               Close\n",
              "Date                \n",
              "2000-01-04         0\n",
              "2000-01-05  -3.16059\n",
              "2000-01-06   1.53874\n",
              "2000-01-11   1.08668\n",
              "2000-01-12 -0.838932"
            ]
          },
          "metadata": {
            "tags": []
          },
          "execution_count": 9
        }
      ]
    },
    {
      "cell_type": "markdown",
      "metadata": {
        "id": "DiZ872nyhtNf"
      },
      "source": [
        ""
      ]
    },
    {
      "cell_type": "code",
      "metadata": {
        "colab": {
          "base_uri": "https://localhost:8080/"
        },
        "id": "f_GhuyTOiHXf",
        "outputId": "59a4514d-feb3-46e3-f4b2-fc068bbc3ee2"
      },
      "source": [
        "dataset = new_data.values\n",
        "train, test = train_test_split(dataset, train_size=0.80, test_size = 0.20, shuffle = False)\n",
        "print(train[0:5])"
      ],
      "execution_count": 12,
      "outputs": [
        {
          "output_type": "stream",
          "text": [
            "[[0]\n",
            " [-3.1605931911337746]\n",
            " [1.538743757760561]\n",
            " [1.0866763749351367]\n",
            " [-0.8389317395907685]]\n"
          ],
          "name": "stdout"
        }
      ]
    }
  ]
}